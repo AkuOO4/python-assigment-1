{
  "nbformat": 4,
  "nbformat_minor": 0,
  "metadata": {
    "colab": {
      "name": "python assigment3.ipynb",
      "provenance": [],
      "authorship_tag": "ABX9TyNGFtcoWcwVNVzY3u+WY7a7",
      "include_colab_link": true
    },
    "kernelspec": {
      "name": "python3",
      "display_name": "Python 3"
    },
    "language_info": {
      "name": "python"
    }
  },
  "cells": [
    {
      "cell_type": "markdown",
      "metadata": {
        "id": "view-in-github",
        "colab_type": "text"
      },
      "source": [
        "<a href=\"https://colab.research.google.com/github/AkuOO4/python-assigment-1/blob/main/python_assigment3.ipynb\" target=\"_parent\"><img src=\"https://colab.research.google.com/assets/colab-badge.svg\" alt=\"Open In Colab\"/></a>"
      ]
    },
    {
      "cell_type": "markdown",
      "source": [
        "1. FLOWCHART TO FIND THE REVERSE OF A GIVEN NUMBER"
      ],
      "metadata": {
        "id": "rvnZOmg35wIE"
      }
    },
    {
      "cell_type": "code",
      "execution_count": null,
      "metadata": {
        "colab": {
          "base_uri": "https://localhost:8080/"
        },
        "id": "lmPSjI_74nzh",
        "outputId": "03c906cc-6310-4549-90d2-463cbe5dc44a"
      },
      "outputs": [
        {
          "output_type": "stream",
          "name": "stdout",
          "text": [
            "enter a num3456\n",
            "reversed number  6543\n"
          ]
        }
      ],
      "source": [
        "a=int(input(\"enter a num\"))\n",
        "copy=a\n",
        "rev=0\n",
        "while a>=1:\n",
        "  rev=rev*10+a%10\n",
        "  a=a//10\n",
        "print(\"reversed number \",rev)\n",
        "  "
      ]
    },
    {
      "cell_type": "markdown",
      "source": [
        "2. FLOWCHART TO FIND THE REVERSE OF A GIVEN NUMBER"
      ],
      "metadata": {
        "id": "T0WXz1_l5q-F"
      }
    },
    {
      "cell_type": "code",
      "source": [
        "a=int(input(\"enter n\"))\n",
        "for i in range(a+1):\n",
        "  print(i)"
      ],
      "metadata": {
        "colab": {
          "base_uri": "https://localhost:8080/"
        },
        "id": "yHx4W-g66YIT",
        "outputId": "3121a67a-64f5-4423-8d6d-a32e8e94c381"
      },
      "execution_count": null,
      "outputs": [
        {
          "output_type": "stream",
          "name": "stdout",
          "text": [
            "enter n10\n",
            "0\n",
            "1\n",
            "2\n",
            "3\n",
            "4\n",
            "5\n",
            "6\n",
            "7\n",
            "8\n",
            "9\n",
            "10\n"
          ]
        }
      ]
    },
    {
      "cell_type": "markdown",
      "source": [
        "3. FLOWCHART TO PRINT THE SUM OF THE FACTORS OF A NUMBER"
      ],
      "metadata": {
        "id": "zaNlqLXZ5vh1"
      }
    },
    {
      "cell_type": "code",
      "source": [
        "a=int(input(\"enter a num\")\n",
        "s=0\n",
        "for i in range(a//2+1):\n",
        "  if a%i==0:\n",
        "    s+=i\n",
        "print(\"sum is\",s)"
      ],
      "metadata": {
        "id": "YyA9Nrk48OiH"
      },
      "execution_count": null,
      "outputs": []
    },
    {
      "cell_type": "markdown",
      "source": [
        "4 FLOWCHART TO PRINT THE N TERMS OF AN ARITHMETIC SEQUENCE"
      ],
      "metadata": {
        "id": "KK9Ojsei-rS3"
      }
    },
    {
      "cell_type": "markdown",
      "source": [
        "4. FLOWCHART TO PRINT THE N TERMS OF AN ARITHMETIC SEQUENCE"
      ],
      "metadata": {
        "id": "p8KxSJ0X-0OZ"
      }
    },
    {
      "cell_type": "code",
      "source": [
        "a=int(input(\"enter a\"))\n",
        "d=int(input(\"enter diff\"))\n",
        "n=int(input(\"enter lim\"))\n",
        "for i in range(n):\n",
        "  print(a)\n",
        "  a+=d"
      ],
      "metadata": {
        "colab": {
          "base_uri": "https://localhost:8080/"
        },
        "id": "IDL9It7l-_NQ",
        "outputId": "7db64cd1-830e-4cd1-b964-8cd09b828031"
      },
      "execution_count": null,
      "outputs": [
        {
          "output_type": "stream",
          "name": "stdout",
          "text": [
            "enter a3\n",
            "enter diff1\n",
            "enter lim3\n",
            "3\n",
            "4\n",
            "5\n"
          ]
        }
      ]
    },
    {
      "cell_type": "markdown",
      "source": [
        "5. FLOWCHART TO PRINT THE N TERMS OF THE FIBONACCI SERIES"
      ],
      "metadata": {
        "id": "g2nwe_3cBdwA"
      }
    },
    {
      "cell_type": "code",
      "source": [
        "a=int(input(\"enter lim\"))\n",
        "a1=0\n",
        "a2=1\n",
        "for i in range(a):\n",
        "  print(a1)\n",
        "  d=a2\n",
        "  a2=a1+a2\n",
        "  a1=d\n"
      ],
      "metadata": {
        "colab": {
          "base_uri": "https://localhost:8080/"
        },
        "id": "xFPeKuyXBoEj",
        "outputId": "a9828c2f-49b3-4c21-df67-e97ed7a876c5"
      },
      "execution_count": null,
      "outputs": [
        {
          "output_type": "stream",
          "name": "stdout",
          "text": [
            "enter lim5\n",
            "0\n",
            "1\n",
            "1\n",
            "2\n",
            "3\n"
          ]
        }
      ]
    },
    {
      "cell_type": "markdown",
      "source": [
        "6. FLOWCHART TO CHECK WHETHER A NUMBER IS PALINDROME OR NOT"
      ],
      "metadata": {
        "id": "XITV5VglC6pa"
      }
    },
    {
      "cell_type": "code",
      "source": [
        "a=int(input(\"enter a num\"))\n",
        "cop=a\n",
        "rev=0\n",
        "while a>1:\n",
        "  rev=rev*10+a%10\n",
        "  a//10\n",
        "if cop==rev:\n",
        "  print(\"its a palin\")\n",
        "else:\n",
        "    print(\"its not a palin\")"
      ],
      "metadata": {
        "id": "zpAt9FLBC9c0"
      },
      "execution_count": null,
      "outputs": []
    },
    {
      "cell_type": "markdown",
      "source": [
        "7. FLOWCHART TO CHECK WHETHER A NUMBER IS ARMSTRONG OR NOT"
      ],
      "metadata": {
        "id": "s1b4W3vwEZkU"
      }
    },
    {
      "cell_type": "code",
      "source": [
        "d=int(input(\"enter\"))\n",
        "i=d\n",
        "j=d\n",
        "a=0\n",
        "n=0\n",
        "while j!=0:\n",
        "  j=j//10\n",
        "  n+=1\n",
        "while i!=0:  #adding the num raised to pow\n",
        "  b=i%10\n",
        "  c=b**n\n",
        "  i=i//10    \n",
        "  a+=c\n",
        "if a==d:\n",
        "  print(\"its amstrong number\")\n",
        "else:\n",
        "  print(\"not an amstrong\")"
      ],
      "metadata": {
        "colab": {
          "base_uri": "https://localhost:8080/"
        },
        "id": "o3iJOzjZEgD6",
        "outputId": "5ad9680e-fcb4-4911-b8f4-2deddde77b4e"
      },
      "execution_count": null,
      "outputs": [
        {
          "output_type": "stream",
          "name": "stdout",
          "text": [
            "enter153\n",
            "its amstrong number\n"
          ]
        }
      ]
    },
    {
      "cell_type": "markdown",
      "source": [
        "8 FLOWCHART TO EVALUATE X^n"
      ],
      "metadata": {
        "id": "ROwwGK8JE7R2"
      }
    },
    {
      "cell_type": "code",
      "source": [
        "x=int(input(\"enter x\"))\n",
        "n=int(input(\"enter n \"))\n",
        "for i in range(n+1):\n",
        "  print(x**i)"
      ],
      "metadata": {
        "colab": {
          "base_uri": "https://localhost:8080/"
        },
        "id": "XQLdf7LQFFbr",
        "outputId": "f3fc8600-6751-4129-bb8c-5f92769d4f3a"
      },
      "execution_count": null,
      "outputs": [
        {
          "output_type": "stream",
          "name": "stdout",
          "text": [
            "enter x5\n",
            "enter n 5\n",
            "1\n",
            "5\n",
            "25\n",
            "125\n",
            "625\n",
            "3125\n"
          ]
        }
      ]
    },
    {
      "cell_type": "markdown",
      "source": [
        "9 FLOWCHART TOP PRINT FIRST N ODD NUMBER"
      ],
      "metadata": {
        "id": "OA_tSDDhGEv_"
      }
    },
    {
      "cell_type": "code",
      "source": [
        "n=int(input(\"enter lim \"))\n",
        "a=1\n",
        "for i in range(n):\n",
        "  print(a)\n",
        "  a+=2"
      ],
      "metadata": {
        "colab": {
          "base_uri": "https://localhost:8080/"
        },
        "id": "wzJU_x3eHCti",
        "outputId": "65628c6d-6dd5-4053-eecf-15c151d894b8"
      },
      "execution_count": null,
      "outputs": [
        {
          "output_type": "stream",
          "name": "stdout",
          "text": [
            "enter lim 5\n",
            "1\n",
            "3\n",
            "5\n",
            "7\n",
            "9\n"
          ]
        }
      ]
    },
    {
      "cell_type": "markdown",
      "source": [
        "10. FLOWCHART TO PRINT GCD OF 2 NUMBERS"
      ],
      "metadata": {
        "id": "jxFInM3NHaUY"
      }
    },
    {
      "cell_type": "code",
      "source": [
        "a=int(input(\"enter a num\"))\n",
        "b=int(input(\"enter num\"))\n",
        "gcd=0\n",
        "m=a\n",
        "if a>b:\n",
        "  m=b\n",
        "for i in range(1,m+1):\n",
        "  if a%i==0 and b%i==0:\n",
        "    gcd=i\n",
        "if gcd==0:\n",
        "  print(\"no gcd\")\n",
        "else:\n",
        "  print(gcd,\" is the gcd\")"
      ],
      "metadata": {
        "colab": {
          "base_uri": "https://localhost:8080/"
        },
        "id": "BYvumCzGHfml",
        "outputId": "139b4618-437a-4558-f0a4-738dfe85c0f7"
      },
      "execution_count": null,
      "outputs": [
        {
          "output_type": "stream",
          "name": "stdout",
          "text": [
            "enter a num20\n",
            "enter num10\n",
            "10  is the gcd\n"
          ]
        }
      ]
    },
    {
      "cell_type": "markdown",
      "source": [
        "11. FACTORIAL OF A GIVEN NUMBER"
      ],
      "metadata": {
        "id": "2h12SiaAK4T4"
      }
    },
    {
      "cell_type": "code",
      "source": [
        "a=int(input(\"enter the number\"))\n",
        "fact=1\n",
        "if a==0:\n",
        "  print(1)\n",
        "else:\n",
        "  while a>1:\n",
        "    fact*=a\n",
        "    a-=1\n",
        "  print(fact)"
      ],
      "metadata": {
        "colab": {
          "base_uri": "https://localhost:8080/"
        },
        "id": "c2V0FIi3K6ub",
        "outputId": "ed5a9102-664e-4b7d-cfea-17e45b690f53"
      },
      "execution_count": null,
      "outputs": [
        {
          "output_type": "stream",
          "name": "stdout",
          "text": [
            "enter the number5\n",
            "120\n"
          ]
        }
      ]
    },
    {
      "cell_type": "markdown",
      "source": [
        "12  SQUARES OF NATURAL NUMBERS BETWEEN TWO\n",
        "NUMBERS"
      ],
      "metadata": {
        "id": "wd3S9-OoK4Ok"
      }
    },
    {
      "cell_type": "code",
      "source": [
        "a=int(input(\"enter start\"))\n",
        "n=int(input(\"enter end\"))\n",
        "for i in range(a,n+1):\n",
        "  print(i**2)"
      ],
      "metadata": {
        "colab": {
          "base_uri": "https://localhost:8080/"
        },
        "id": "3cqRZ7jfL6DS",
        "outputId": "6648f4ab-43e4-4742-d477-fdcbb5b384ef"
      },
      "execution_count": null,
      "outputs": [
        {
          "output_type": "stream",
          "name": "stdout",
          "text": [
            "enter start5\n",
            "enter end10\n",
            "25\n",
            "36\n",
            "49\n",
            "64\n",
            "81\n",
            "100\n"
          ]
        }
      ]
    },
    {
      "cell_type": "markdown",
      "source": [
        "13  FIND THE SUM OF THE GIVEN SERIES, UP TO N\n",
        "TERMS. S = 1 - 4 + 9 - 16 + ...."
      ],
      "metadata": {
        "id": "89FIP7x8MVvA"
      }
    },
    {
      "cell_type": "code",
      "source": [
        "n=int(input(\"enter n\"))\n",
        "s=0\n",
        "sign=1\n",
        "for i in range (1,n+1):\n",
        "  s+=sign*(i**2)\n",
        "  sign=-sign\n",
        "print(\"sum \",s)"
      ],
      "metadata": {
        "colab": {
          "base_uri": "https://localhost:8080/"
        },
        "id": "RVmhXdLVMbX0",
        "outputId": "f3103922-8851-485e-86ec-edcd0d3667af"
      },
      "execution_count": null,
      "outputs": [
        {
          "output_type": "stream",
          "name": "stdout",
          "text": [
            "enter n4\n",
            "sum  -10\n"
          ]
        }
      ]
    },
    {
      "cell_type": "markdown",
      "source": [
        "14  CHECK WHETHER A GIVEN NUMBER IS\n",
        "AUTOMORPHIC OR NOT"
      ],
      "metadata": {
        "id": "Vm1laNB5Nu9L"
      }
    },
    {
      "cell_type": "code",
      "source": [
        "a=int(input(\"enter a num\"))\n",
        "sqr=a**2\n",
        "ct=0\n",
        "copy=a\n",
        "while copy>1:\n",
        "  ct+=1\n",
        "  copy=copy//10\n",
        "if sqr%(10**ct)==a:\n",
        "  print(\"they are automorphic\")\n",
        "else:\n",
        "  print(\"the are not\")"
      ],
      "metadata": {
        "colab": {
          "base_uri": "https://localhost:8080/"
        },
        "id": "HYbvwyZ3OH-L",
        "outputId": "1c90ffa3-e160-4abf-a3f7-95177bc02ec1"
      },
      "execution_count": null,
      "outputs": [
        {
          "output_type": "stream",
          "name": "stdout",
          "text": [
            "enter a num5\n",
            "1\n",
            "they are automorphic\n"
          ]
        }
      ]
    },
    {
      "cell_type": "markdown",
      "source": [
        "15 FLOWCHART TO READ A BINARY NUMBER AND PRINT ITS DECIMAL\n",
        "EQUIVALENT\n"
      ],
      "metadata": {
        "id": "g3pMKx0cQTqb"
      }
    },
    {
      "cell_type": "code",
      "source": [
        "a=int(input(\"enter the binary\"))\n",
        "dec=0\n",
        "ct=0\n",
        "while a>0:\n",
        "  add=a%10\n",
        "  dec+=add*(2**ct)\n",
        "\n",
        "  ct+=1\n",
        "\n",
        "  a=a//10\n",
        "print(dec)"
      ],
      "metadata": {
        "colab": {
          "base_uri": "https://localhost:8080/"
        },
        "id": "GJYCNll5QWSL",
        "outputId": "075df4fd-7a52-4a08-ee16-af578a6fd5da"
      },
      "execution_count": null,
      "outputs": [
        {
          "output_type": "stream",
          "name": "stdout",
          "text": [
            "enter the binary10011\n",
            "19\n"
          ]
        }
      ]
    }
  ]
}