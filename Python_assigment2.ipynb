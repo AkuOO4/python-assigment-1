{
  "nbformat": 4,
  "nbformat_minor": 0,
  "metadata": {
    "colab": {
      "name": "Python assigment2.ipynb",
      "provenance": [],
      "collapsed_sections": [],
      "authorship_tag": "ABX9TyPULJ4LbaNKaPVikBXWy7TX",
      "include_colab_link": true
    },
    "kernelspec": {
      "name": "python3",
      "display_name": "Python 3"
    },
    "language_info": {
      "name": "python"
    }
  },
  "cells": [
    {
      "cell_type": "markdown",
      "metadata": {
        "id": "view-in-github",
        "colab_type": "text"
      },
      "source": [
        "<a href=\"https://colab.research.google.com/github/AkuOO4/python-assigment-1/blob/main/Python_assigment2.ipynb\" target=\"_parent\"><img src=\"https://colab.research.google.com/assets/colab-badge.svg\" alt=\"Open In Colab\"/></a>"
      ]
    },
    {
      "cell_type": "markdown",
      "source": [
        "1. BIGGEST OF 2 NUMBERS."
      ],
      "metadata": {
        "id": "a7wfOOzCrSf6"
      }
    },
    {
      "cell_type": "code",
      "execution_count": null,
      "metadata": {
        "id": "p_HIHocPrLX2"
      },
      "outputs": [],
      "source": [
        "a=int(input(\"enter a no.\"))\n",
        "b=int(input(\"enter another no.\"))\n",
        "if a==b:\n",
        "  print(\"same number\")\n",
        "elif a>b:\n",
        "  print(a,\" is greater than \",b)\n",
        "else:\n",
        "  print(b,\" is greater than \",a)"
      ]
    },
    {
      "cell_type": "markdown",
      "source": [
        "2. LOWEST OF 3 NUMBERS."
      ],
      "metadata": {
        "id": "MWa_tCMlsKHa"
      }
    },
    {
      "cell_type": "code",
      "source": [
        "a=int(input(\"enter a no.\"))\n",
        "b=int(input(\"enter another no.\"))\n",
        "c=int(input(\"enter another no.\"))\n",
        "if a>b:\n",
        "  if c>b:\n",
        "    l=b\n",
        "  else:\n",
        "    l=c\n",
        "else:\n",
        "  if a>c:\n",
        "    l=c\n",
        "  else:\n",
        "    l=a\n",
        " print(\"lowest is \",l)    "
      ],
      "metadata": {
        "id": "Dd4TjLi6sOcy"
      },
      "execution_count": null,
      "outputs": []
    },
    {
      "cell_type": "markdown",
      "source": [
        "3. DISTANCE BETWEEN 2 POINTS ON A NUMBER LINE."
      ],
      "metadata": {
        "id": "3JQ8YXIhvvc-"
      }
    },
    {
      "cell_type": "code",
      "source": [
        "a=int(input(\"enter a no.\"))\n",
        "b=int(input(\"enter another no.\"))\n",
        "print(\"disatnce between points\",b-a)"
      ],
      "metadata": {
        "id": "Ggp6ENeRtror",
        "colab": {
          "base_uri": "https://localhost:8080/"
        },
        "outputId": "62ef550c-b491-4ee4-f1c6-bfc5b1cd1ce0"
      },
      "execution_count": null,
      "outputs": [
        {
          "output_type": "stream",
          "name": "stdout",
          "text": [
            "enter a no.5\n",
            "enter another no.10\n",
            "disatnce between points 5\n"
          ]
        }
      ]
    },
    {
      "cell_type": "markdown",
      "source": [
        "4. CHECK WHETHER A DIGIT IS 2 DIGIT OR NOT."
      ],
      "metadata": {
        "id": "j2C7N1xYwtue"
      }
    },
    {
      "cell_type": "code",
      "source": [
        "a=int(input(\"enter a number\"))\n",
        "if float(a/10)>=1 and float(a/100)<1:\n",
        "  print(\"the number is 2 digit\")\n",
        "else:\n",
        "  print(\"mot 2 digit\")"
      ],
      "metadata": {
        "id": "jr2-Wn2xwvpD"
      },
      "execution_count": null,
      "outputs": []
    },
    {
      "cell_type": "markdown",
      "source": [
        "5. CHECK A NUMBER IS POSITIVE OR NEGATIVE OR ZERO."
      ],
      "metadata": {
        "id": "K9TKdpA7xfhr"
      }
    },
    {
      "cell_type": "code",
      "source": [
        "a=int(input(\"enter a number\"))\n",
        "if a==0:\n",
        "  print(\"num is  zero\")\n",
        "elif a>0:\n",
        "  print(\"positive\")\n",
        "else:\n",
        "  print(\"negative\")"
      ],
      "metadata": {
        "id": "Gu291sE1xmFj"
      },
      "execution_count": null,
      "outputs": []
    },
    {
      "cell_type": "markdown",
      "source": [
        "6. CHECK WHETHER A NUMBER IS A MULTIPLE OF AN ANOTHER."
      ],
      "metadata": {
        "id": "0LcbF5-8zeJQ"
      }
    },
    {
      "cell_type": "code",
      "source": [
        "a=int(input(\"enter a no:\"))\n",
        "b=int(input(\"enter a no:\"))\n",
        "if a%b==0 or b%a==0:\n",
        "  print(\"they are multiples\")\n",
        "else:\n",
        "  print(\"they are not multiples\")"
      ],
      "metadata": {
        "colab": {
          "base_uri": "https://localhost:8080/"
        },
        "id": "g8pwPHR7zfZH",
        "outputId": "549852b5-59f8-4518-aa62-a7bb0171a591"
      },
      "execution_count": null,
      "outputs": [
        {
          "output_type": "stream",
          "name": "stdout",
          "text": [
            "enter a no:5\n",
            "enter a no:10\n",
            "they are multiples\n"
          ]
        }
      ]
    },
    {
      "cell_type": "markdown",
      "source": [
        "7. SMALLEST DIGIT IN A TWO DIGIT NUMBER.\n"
      ],
      "metadata": {
        "id": "jFKNWCB81UKr"
      }
    },
    {
      "cell_type": "code",
      "source": [
        "a=int(input(\"enter a 2 digit no:\"))\n",
        "if a%10>a//10:\n",
        "  print(a%10,\"is gratest\")\n",
        "else:\n",
        "  print(a//10,\"is greatest\")"
      ],
      "metadata": {
        "colab": {
          "base_uri": "https://localhost:8080/"
        },
        "id": "zCZpre_c2eEC",
        "outputId": "a43b24b1-7a9d-4d2b-f77c-2e949844131a"
      },
      "execution_count": null,
      "outputs": [
        {
          "output_type": "stream",
          "name": "stdout",
          "text": [
            "enter a 2 digit no:79\n",
            "9 is gratest\n"
          ]
        }
      ]
    },
    {
      "cell_type": "markdown",
      "source": [
        " 8. NATURE OF ROOTS"
      ],
      "metadata": {
        "id": "kmwn_u7e3OfA"
      }
    },
    {
      "cell_type": "code",
      "source": [
        "a=int(input(\"enter a \"))\n",
        "b=int(input(\"enter b\"))\n",
        "c=int(input(\"enter c\"))\n",
        "d=(b^2)-4*a*c\n",
        "if d==0:\n",
        "  print(\"number are same\")\n",
        "elif d<0:\n",
        "  print(\"complex roots\")\n",
        "else:\n",
        "  print(\"distinct roots\")"
      ],
      "metadata": {
        "colab": {
          "base_uri": "https://localhost:8080/"
        },
        "id": "gbiN2BLg2ydz",
        "outputId": "7dff6e26-8b0b-49df-9984-8f18d464b32b"
      },
      "execution_count": null,
      "outputs": [
        {
          "output_type": "stream",
          "name": "stdout",
          "text": [
            "enter a 5\n",
            "enter b4\n",
            "enter c1\n",
            "complex roots\n"
          ]
        }
      ]
    }
  ]
}