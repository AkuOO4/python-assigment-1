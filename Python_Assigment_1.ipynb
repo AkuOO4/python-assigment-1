{
  "nbformat": 4,
  "nbformat_minor": 0,
  "metadata": {
    "colab": {
      "name": "Python Assigment 1.ipynb",
      "provenance": [],
      "authorship_tag": "ABX9TyO+eOBsPz1rGOjNqUh+qkdY",
      "include_colab_link": true
    },
    "kernelspec": {
      "name": "python3",
      "display_name": "Python 3"
    },
    "language_info": {
      "name": "python"
    }
  },
  "cells": [
    {
      "cell_type": "markdown",
      "metadata": {
        "id": "view-in-github",
        "colab_type": "text"
      },
      "source": [
        "<a href=\"https://colab.research.google.com/github/AkuOO4/python-assigment-1/blob/main/Python_Assigment_1.ipynb\" target=\"_parent\"><img src=\"https://colab.research.google.com/assets/colab-badge.svg\" alt=\"Open In Colab\"/></a>"
      ]
    },
    {
      "cell_type": "markdown",
      "source": [
        "**PYTHON ASSIGMENT-1**\n",
        "\n",
        "**AKSHAY K S**"
      ],
      "metadata": {
        "id": "VTMnZusFvo0z"
      }
    },
    {
      "cell_type": "markdown",
      "source": [
        "print the Average of Three Numbers."
      ],
      "metadata": {
        "id": "F0kez7Jal1vS"
      }
    },
    {
      "cell_type": "code",
      "source": [
        "a=int(input(\"enter num1 \"))\n",
        "b=int(input(\"enter num2 \"))\n",
        "c=int(input(\"enter num3 \"))\n",
        "sum=a+b+c\n",
        "avg=sum/3\n",
        "print(\"average is \",avg)"
      ],
      "metadata": {
        "colab": {
          "base_uri": "https://localhost:8080/"
        },
        "id": "NjtFU3XvmhhE",
        "outputId": "c28172de-191b-467f-cd6d-5ed7f26c38c0"
      },
      "execution_count": 2,
      "outputs": [
        {
          "output_type": "stream",
          "name": "stdout",
          "text": [
            "enter num1 5\n",
            "enter num2 6\n",
            "enter num3 7\n",
            "average is  6.0\n"
          ]
        }
      ]
    },
    {
      "cell_type": "markdown",
      "source": [
        "print the Sum and Average of Three Numbers."
      ],
      "metadata": {
        "id": "8Vb9nEGylxTz"
      }
    },
    {
      "cell_type": "code",
      "metadata": {
        "id": "xTxlbwbblxg_",
        "colab": {
          "base_uri": "https://localhost:8080/"
        },
        "outputId": "54a96053-e641-4760-9a94-1b56dd065b08"
      },
      "source": [
        "a=int(input(\"enter num1 \"))\n",
        "b=int(input(\"enter num2 \"))\n",
        "c=int(input(\"enter num3 \"))\n",
        "sum=a+b+c\n",
        "avg=sum/3\n",
        "print(\"sum is \",sum)\n",
        "print(\"average is \",avg)"
      ],
      "execution_count": 1,
      "outputs": [
        {
          "output_type": "stream",
          "name": "stdout",
          "text": [
            "enter num1 5\n",
            "enter num2 10\n",
            "enter num3 15\n",
            "sum is  30\n",
            "average is  10.0\n"
          ]
        }
      ]
    },
    {
      "cell_type": "markdown",
      "source": [
        "Convert the Time entered in Seconds to Hours,Minutes,Seconds."
      ],
      "metadata": {
        "id": "XcCTTUi_nYJD"
      }
    },
    {
      "cell_type": "code",
      "source": [
        "time=int(input(\"enter time is seconds\"))\n",
        "print(\"time in hours is \",round(time/360,2))\n",
        "print(\"time in minutes is \",round(time/60,2))\n",
        "print(\"time in seconds is \",time)"
      ],
      "metadata": {
        "colab": {
          "base_uri": "https://localhost:8080/"
        },
        "id": "SwKyBoSlnbua",
        "outputId": "3c672080-d215-4a8a-ac23-17aab7ed42bd"
      },
      "execution_count": 5,
      "outputs": [
        {
          "output_type": "stream",
          "name": "stdout",
          "text": [
            "enter time is seconds5000\n",
            "time in hours is  13.89\n",
            "time in minutes is  83.33\n",
            "time in seconds is  5000\n"
          ]
        }
      ]
    },
    {
      "cell_type": "markdown",
      "source": [
        "Print the Area and Perimeter of a Triangle."
      ],
      "metadata": {
        "id": "K4ULjfnHopFJ"
      }
    },
    {
      "cell_type": "code",
      "source": [
        "a=int(input(\"enter side1 \"))\n",
        "b=int(input(\"enter side2 \"))\n",
        "c=int(input(\"enter side3 \"))\n",
        "s=(a+b+c)/2\n",
        "print(\"perimeter of the triangl is \",a+b+c)\n",
        "area=(s*(s-a)*(s-b)*(s-c))**0.5\n",
        "print(\"area of the triangle is \",area)"
      ],
      "metadata": {
        "colab": {
          "base_uri": "https://localhost:8080/"
        },
        "id": "FAqGXh0Pop8D",
        "outputId": "46bdbcd8-1020-4ca3-da7f-4383252ff719"
      },
      "execution_count": 9,
      "outputs": [
        {
          "output_type": "stream",
          "name": "stdout",
          "text": [
            "enter side1 3\n",
            "enter side2 4\n",
            "enter side3 5\n",
            "perimeter of the triangl is  12\n",
            "area of the triangle is  6.0\n"
          ]
        }
      ]
    },
    {
      "cell_type": "markdown",
      "source": [
        "Print the Area of a Circle."
      ],
      "metadata": {
        "id": "gHJXFimwrf1q"
      }
    },
    {
      "cell_type": "code",
      "source": [
        "r=int(input(\"enter radius\"))\n",
        "area=round((22/7)*r**2,2)\n",
        "print(\"area of the circle is \",area)"
      ],
      "metadata": {
        "colab": {
          "base_uri": "https://localhost:8080/"
        },
        "id": "KWER_PCPriYd",
        "outputId": "5903831b-07a0-4b63-c761-177603f510c3"
      },
      "execution_count": 17,
      "outputs": [
        {
          "output_type": "stream",
          "name": "stdout",
          "text": [
            "enter radius5\n",
            "area of the circle is  78.57\n"
          ]
        }
      ]
    },
    {
      "cell_type": "markdown",
      "source": [
        "enter two unequal number and interchange them without using a third variable"
      ],
      "metadata": {
        "id": "4ac93lnPs9UN"
      }
    },
    {
      "cell_type": "code",
      "source": [
        "x=(int(input(\"enter x\")))\n",
        "y=(int(input(\"enter y\")))\n",
        "x=x*y\n",
        "y=x/y\n",
        "x=x/y\n",
        "print(\"x is \",x)\n",
        "print(\"y is \",y)"
      ],
      "metadata": {
        "colab": {
          "base_uri": "https://localhost:8080/"
        },
        "id": "g4LdvURdtDtE",
        "outputId": "2a5a078a-e840-4307-b67b-507615522aef"
      },
      "execution_count": 18,
      "outputs": [
        {
          "output_type": "stream",
          "name": "stdout",
          "text": [
            "enter x10\n",
            "enter y11\n",
            "x is  11.0\n",
            "y is  10.0\n"
          ]
        }
      ]
    },
    {
      "cell_type": "markdown",
      "source": [
        " display sum, difference, product, quotient and remainder of two unequal numbers."
      ],
      "metadata": {
        "id": "pCGfts3EtuZm"
      }
    },
    {
      "cell_type": "code",
      "source": [
        "a=int(input(\"enter num \"))\n",
        "b=int(input(\"enter diff num \"))\n",
        "print(\"sum\",a+b)\n",
        "print(\"product \",a*b)\n",
        "print(\"quotient \",int(a/b))\n",
        "print(\"remainder \",a%b)"
      ],
      "metadata": {
        "colab": {
          "base_uri": "https://localhost:8080/"
        },
        "id": "-utOrb6Ltw6C",
        "outputId": "4fcec5d3-91e9-474b-fe6e-5e569e16639c"
      },
      "execution_count": 20,
      "outputs": [
        {
          "output_type": "stream",
          "name": "stdout",
          "text": [
            "enter num 20\n",
            "enter diff num 3\n",
            "sum 23\n",
            "product  60\n",
            "quotient  6\n",
            "remainder  2\n"
          ]
        }
      ]
    },
    {
      "cell_type": "markdown",
      "source": [
        "Write a program to enter the number of days and display into years, months and days."
      ],
      "metadata": {
        "id": "WRbeohF4uzKn"
      }
    },
    {
      "cell_type": "code",
      "source": [
        "day=int(input(\"enter days\"))\n",
        "print(\"number of years \",int(day/360))\n",
        "print(\"number of months \",int(day/12))\n",
        "print(\"number of days \",day)"
      ],
      "metadata": {
        "colab": {
          "base_uri": "https://localhost:8080/"
        },
        "id": "ehMMkxy2uzx8",
        "outputId": "518071bd-8c80-4184-81f3-8320cc85f7e4"
      },
      "execution_count": 22,
      "outputs": [
        {
          "output_type": "stream",
          "name": "stdout",
          "text": [
            "enter days5000\n",
            "number of years  13\n",
            "number of months  416\n",
            "number of days  5000\n"
          ]
        }
      ]
    }
  ]
}